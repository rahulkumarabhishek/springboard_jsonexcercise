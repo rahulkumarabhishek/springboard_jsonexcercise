{
 "cells": [
  {
   "cell_type": "markdown",
   "metadata": {},
   "source": [
    "This exercise will require you to pull some data from the Qunadl API. Qaundl is currently the most widely used aggregator of financial market data."
   ]
  },
  {
   "cell_type": "markdown",
   "metadata": {},
   "source": [
    "As a first step, you will need to register a free account on the http://www.quandl.com website."
   ]
  },
  {
   "cell_type": "markdown",
   "metadata": {},
   "source": [
    "After you register, you will be provided with a unique API key, that you should store:"
   ]
  },
  {
   "cell_type": "code",
   "execution_count": 6,
   "metadata": {},
   "outputs": [],
   "source": [
    "# Store the API key as a string - according to PEP8, constants are always named in all upper case\n",
    "API_KEY = '67WGRBzT9sQVT41MCu9J'"
   ]
  },
  {
   "cell_type": "markdown",
   "metadata": {},
   "source": [
    "Qaundl has a large number of data sources, but, unfortunately, most of them require a Premium subscription. Still, there are also a good number of free datasets."
   ]
  },
  {
   "cell_type": "markdown",
   "metadata": {},
   "source": [
    "For this mini project, we will focus on equities data from the Frankfurt Stock Exhange (FSE), which is available for free. We'll try and analyze the stock prices of a company called Carl Zeiss Meditec, which manufactures tools for eye examinations, as well as medical lasers for laser eye surgery: https://www.zeiss.com/meditec/int/home.html. The company is listed under the stock ticker AFX_X."
   ]
  },
  {
   "cell_type": "markdown",
   "metadata": {},
   "source": [
    "You can find the detailed Quandl API instructions here: https://docs.quandl.com/docs/time-series"
   ]
  },
  {
   "cell_type": "markdown",
   "metadata": {},
   "source": [
    "While there is a dedicated Python package for connecting to the Quandl API, we would prefer that you use the *requests* package, which can be easily downloaded using *pip* or *conda*. You can find the documentation for the package here: http://docs.python-requests.org/en/master/ "
   ]
  },
  {
   "cell_type": "markdown",
   "metadata": {},
   "source": [
    "Finally, apart from the *requests* package, you are encouraged to not use any third party Python packages, such as *pandas*, and instead focus on what's available in the Python Standard Library (the *collections* module might come in handy: https://pymotw.com/3/collections/ ).\n",
    "Also, since you won't have access to DataFrames, you are encouraged to us Python's native data structures - preferably dictionaries, though some questions can also be answered using lists.\n",
    "You can read more on these data structures here: https://docs.python.org/3/tutorial/datastructures.html"
   ]
  },
  {
   "cell_type": "markdown",
   "metadata": {},
   "source": [
    "Keep in mind that the JSON responses you will be getting from the API map almost one-to-one to Python's dictionaries. Unfortunately, they can be very nested, so make sure you read up on indexing dictionaries in the documentation provided above."
   ]
  },
  {
   "cell_type": "code",
   "execution_count": 4,
   "metadata": {},
   "outputs": [],
   "source": [
    "# First, import the relevant modules\n",
    "import requests"
   ]
  },
  {
   "cell_type": "code",
   "execution_count": 11,
   "metadata": {},
   "outputs": [
    {
     "data": {
      "text/plain": [
       "{'dataset_data': {'limit': 1,\n",
       "  'transform': None,\n",
       "  'column_index': None,\n",
       "  'column_names': ['Date',\n",
       "   'Open',\n",
       "   'High',\n",
       "   'Low',\n",
       "   'Close',\n",
       "   'Volume',\n",
       "   'Ex-Dividend',\n",
       "   'Split Ratio',\n",
       "   'Adj. Open',\n",
       "   'Adj. High',\n",
       "   'Adj. Low',\n",
       "   'Adj. Close',\n",
       "   'Adj. Volume'],\n",
       "  'start_date': '2012-05-18',\n",
       "  'end_date': '2018-03-27',\n",
       "  'frequency': 'daily',\n",
       "  'data': [['2018-03-27',\n",
       "    156.31,\n",
       "    162.85,\n",
       "    150.75,\n",
       "    152.19,\n",
       "    76787884.0,\n",
       "    0.0,\n",
       "    1.0,\n",
       "    156.31,\n",
       "    162.85,\n",
       "    150.75,\n",
       "    152.19,\n",
       "    76787884.0]],\n",
       "  'collapse': None,\n",
       "  'order': None}}"
      ]
     },
     "execution_count": 11,
     "metadata": {},
     "output_type": "execute_result"
    }
   ],
   "source": [
    "# Now, call the Quandl API and pull out a small sample of the data (only one day) to get a glimpse\n",
    "# into the JSON structure that will be returned\n",
    "\n",
    "# url = \"https://www.quandl.com/api/v3/datasets/FSE/AFX_X/data.json?&limit=1&api_key=\" + API_KEY\n",
    "params = dict(key=API_KEY,limit=1)\n",
    "\n",
    "API_URL='https://www.quandl.com/api/v3/datasets/WIKI/FB/data.json'\n",
    "res = requests.get(API_URL, params=params)\n",
    "json = res.json()\n",
    "# json=res.text\n",
    "json\n"
   ]
  },
  {
   "cell_type": "code",
   "execution_count": 13,
   "metadata": {
    "scrolled": true
   },
   "outputs": [
    {
     "data": {
      "text/plain": [
       "'{\"dataset_data\":{\"limit\":1,\"transform\":null,\"column_index\":null,\"column_names\":[\"Date\",\"Open\",\"High\",\"Low\",\"Close\",\"Volume\",\"Ex-Dividend\",\"Split Ratio\",\"Adj. Open\",\"Adj. High\",\"Adj. Low\",\"Adj. Close\",\"Adj. Volume\"],\"start_date\":\"2012-05-18\",\"end_date\":\"2018-03-27\",\"frequency\":\"daily\",\"data\":[[\"2018-03-27\",156.31,162.85,150.75,152.19,76787884.0,0.0,1.0,156.31,162.85,150.75,152.19,76787884.0]],\"collapse\":null,\"order\":null}}'"
      ]
     },
     "execution_count": 13,
     "metadata": {},
     "output_type": "execute_result"
    }
   ],
   "source": [
    "# Inspect the JSON structure of the object you created, and take note of how nested it is,\n",
    "# as well as the overall structure\n",
    "res.text"
   ]
  },
  {
   "cell_type": "markdown",
   "metadata": {},
   "source": [
    "These are your tasks for this mini project:\n",
    "\n",
    "1. Collect data from the Franfurt Stock Exchange, for the ticker AFX_X, for the whole year 2017 (keep in mind that the date format is YYYY-MM-DD).\n",
    "2. Convert the returned JSON object into a Python dictionary.\n",
    "3. Calculate what the highest and lowest opening prices were for the stock in this period.\n",
    "4. What was the largest change in any one day (based on High and Low price)?\n",
    "5. What was the largest change between any two days (based on Closing Price)?\n",
    "6. What was the average daily trading volume during this year?\n",
    "7. (Optional) What was the median trading volume during this year. (Note: you may need to implement your own function for calculating the median.)"
   ]
  },
  {
   "cell_type": "markdown",
   "metadata": {
    "collapsed": true
   },
   "source": [
    "1>solution:"
   ]
  },
  {
   "cell_type": "code",
   "execution_count": 17,
   "metadata": {},
   "outputs": [
    {
     "data": {
      "text/plain": [
       "{'dataset_data': {'limit': 1,\n",
       "  'transform': None,\n",
       "  'column_index': None,\n",
       "  'column_names': ['Date',\n",
       "   'Open',\n",
       "   'High',\n",
       "   'Low',\n",
       "   'Close',\n",
       "   'Volume',\n",
       "   'Ex-Dividend',\n",
       "   'Split Ratio',\n",
       "   'Adj. Open',\n",
       "   'Adj. High',\n",
       "   'Adj. Low',\n",
       "   'Adj. Close',\n",
       "   'Adj. Volume'],\n",
       "  'start_date': '2017-01-01',\n",
       "  'end_date': '2017-12-31',\n",
       "  'frequency': 'daily',\n",
       "  'data': [['2017-12-29',\n",
       "    178.0,\n",
       "    178.85,\n",
       "    176.46,\n",
       "    176.46,\n",
       "    10028758.0,\n",
       "    0.0,\n",
       "    1.0,\n",
       "    178.0,\n",
       "    178.85,\n",
       "    176.46,\n",
       "    176.46,\n",
       "    10028758.0]],\n",
       "  'collapse': None,\n",
       "  'order': None}}"
      ]
     },
     "execution_count": 17,
     "metadata": {},
     "output_type": "execute_result"
    }
   ],
   "source": [
    "params = dict(key=API_KEY,limit=1,start_date='2017-01-01',end_date='2017-12-31')\n",
    "url = \"https://www.quandl.com/api/v3/datasets\"\n",
    "res = requests.get(API_URL, params=params)\n",
    "json = res.json()\n",
    "json"
   ]
  },
  {
   "cell_type": "code",
   "execution_count": 24,
   "metadata": {},
   "outputs": [],
   "source": [
    "import pandas as pd"
   ]
  },
  {
   "cell_type": "code",
   "execution_count": 28,
   "metadata": {},
   "outputs": [
    {
     "data": {
      "text/html": [
       "<div>\n",
       "<style scoped>\n",
       "    .dataframe tbody tr th:only-of-type {\n",
       "        vertical-align: middle;\n",
       "    }\n",
       "\n",
       "    .dataframe tbody tr th {\n",
       "        vertical-align: top;\n",
       "    }\n",
       "\n",
       "    .dataframe thead th {\n",
       "        text-align: right;\n",
       "    }\n",
       "</style>\n",
       "<table border=\"1\" class=\"dataframe\">\n",
       "  <thead>\n",
       "    <tr style=\"text-align: right;\">\n",
       "      <th></th>\n",
       "      <th>Date</th>\n",
       "      <th>Open</th>\n",
       "      <th>High</th>\n",
       "      <th>Low</th>\n",
       "      <th>Close</th>\n",
       "      <th>Volume</th>\n",
       "      <th>Ex-Dividend</th>\n",
       "      <th>Split Ratio</th>\n",
       "      <th>Adj. Open</th>\n",
       "      <th>Adj. High</th>\n",
       "      <th>Adj. Low</th>\n",
       "      <th>Adj. Close</th>\n",
       "      <th>Adj. Volume</th>\n",
       "    </tr>\n",
       "  </thead>\n",
       "  <tbody>\n",
       "    <tr>\n",
       "      <td>0</td>\n",
       "      <td>2017-12-29</td>\n",
       "      <td>178.0</td>\n",
       "      <td>178.85</td>\n",
       "      <td>176.46</td>\n",
       "      <td>176.46</td>\n",
       "      <td>10028758.0</td>\n",
       "      <td>0.0</td>\n",
       "      <td>1.0</td>\n",
       "      <td>178.0</td>\n",
       "      <td>178.85</td>\n",
       "      <td>176.46</td>\n",
       "      <td>176.46</td>\n",
       "      <td>10028758.0</td>\n",
       "    </tr>\n",
       "  </tbody>\n",
       "</table>\n",
       "</div>"
      ],
      "text/plain": [
       "         Date   Open    High     Low   Close      Volume  Ex-Dividend  \\\n",
       "0  2017-12-29  178.0  178.85  176.46  176.46  10028758.0          0.0   \n",
       "\n",
       "   Split Ratio  Adj. Open  Adj. High  Adj. Low  Adj. Close  Adj. Volume  \n",
       "0          1.0      178.0     178.85    176.46      176.46   10028758.0  "
      ]
     },
     "execution_count": 28,
     "metadata": {},
     "output_type": "execute_result"
    }
   ],
   "source": [
    "# df=pd.read_json(json)\n",
    "json_data_cols = json[\"dataset_data\"][\"column_names\"]\n",
    "# json_data_cols\n",
    "json_data_rows = json[\"dataset_data\"][\"data\"]\n",
    "df = pd.DataFrame(json_data_rows, columns=json_data_cols)\n",
    "df.head()"
   ]
  },
  {
   "cell_type": "code",
   "execution_count": 32,
   "metadata": {},
   "outputs": [
    {
     "name": "stdout",
     "output_type": "stream",
     "text": [
      "The highest opening price in 2017 was $178.00 per share and occured on 2017-12-29.\n",
      "The lowest opening price in 2017 was $178.00 per share and oocurred on 2017-12-29.\n"
     ]
    }
   ],
   "source": [
    "# Dictionary comprehension solution for abstracting other significant data\n",
    "open_dict = {row[0]: row[1] for row in json[\"dataset_data\"][\"data\"] if row[1] != None}\n",
    "open_max_date, open_max = max(open_dict.items(), key=lambda k: k[1])\n",
    "open_min_date, open_min = min(open_dict.items(), key=lambda k: k[1])\n",
    "\n",
    "print(\"The highest opening price in 2017 was ${0:.2f} per share and occured on {1}.\" \\\n",
    "      .format(round(open_max, 2), open_max_date))\n",
    "print(\"The lowest opening price in 2017 was ${0:.2f} per share and oocurred on {1}.\" \\\n",
    "      .format(round(open_min, 2), open_min_date))"
   ]
  },
  {
   "cell_type": "code",
   "execution_count": 34,
   "metadata": {},
   "outputs": [
    {
     "name": "stdout",
     "output_type": "stream",
     "text": [
      "The largest daily price spread in 2017 was Δ$2.39 per share and occurred on 2017-12-29.\n"
     ]
    }
   ],
   "source": [
    "spread_dict = {row[0]: row[2] - row[3] for row in json[\"dataset_data\"][\"data\"]}\n",
    "spread_max_date, spread_max = max(spread_dict.items(), key=lambda k: k[1])\n",
    "\n",
    "print(\"The largest daily price spread in 2017 was {1}${0:.2f} per share and occurred on {2}.\" \\\n",
    "      .format(round(spread_max, 2), u'\\u0394', spread_max_date))"
   ]
  },
  {
   "cell_type": "code",
   "execution_count": 35,
   "metadata": {
    "scrolled": true
   },
   "outputs": [
    {
     "ename": "ValueError",
     "evalue": "max() arg is an empty sequence",
     "output_type": "error",
     "traceback": [
      "\u001b[1;31m---------------------------------------------------------------------------\u001b[0m",
      "\u001b[1;31mValueError\u001b[0m                                Traceback (most recent call last)",
      "\u001b[1;32m<ipython-input-35-431bc15fdbcf>\u001b[0m in \u001b[0;36m<module>\u001b[1;34m\u001b[0m\n\u001b[0;32m      7\u001b[0m     \u001b[0mclose_prev\u001b[0m \u001b[1;33m=\u001b[0m \u001b[0mclose\u001b[0m\u001b[1;33m\u001b[0m\u001b[1;33m\u001b[0m\u001b[0m\n\u001b[0;32m      8\u001b[0m \u001b[1;33m\u001b[0m\u001b[0m\n\u001b[1;32m----> 9\u001b[1;33m \u001b[0mclose_delta_max_date\u001b[0m\u001b[1;33m,\u001b[0m \u001b[0mclose_delta_max\u001b[0m \u001b[1;33m=\u001b[0m \u001b[0mmax\u001b[0m\u001b[1;33m(\u001b[0m\u001b[0mclose_delta_dict\u001b[0m\u001b[1;33m.\u001b[0m\u001b[0mitems\u001b[0m\u001b[1;33m(\u001b[0m\u001b[1;33m)\u001b[0m\u001b[1;33m,\u001b[0m \u001b[0mkey\u001b[0m\u001b[1;33m=\u001b[0m\u001b[1;32mlambda\u001b[0m \u001b[0mk\u001b[0m\u001b[1;33m:\u001b[0m\u001b[0mk\u001b[0m\u001b[1;33m[\u001b[0m\u001b[1;36m1\u001b[0m\u001b[1;33m]\u001b[0m\u001b[1;33m)\u001b[0m\u001b[1;33m\u001b[0m\u001b[1;33m\u001b[0m\u001b[0m\n\u001b[0m\u001b[0;32m     10\u001b[0m \u001b[1;33m\u001b[0m\u001b[0m\n\u001b[0;32m     11\u001b[0m print(\"The largest change between consecutive day closing prices in 2017 was {1}${0:.2f}\" \\\n",
      "\u001b[1;31mValueError\u001b[0m: max() arg is an empty sequence"
     ]
    }
   ],
   "source": [
    "close_delta_dict = {}\n",
    "close_prev =  json[\"dataset_data\"][\"data\"][0][4]\n",
    "\n",
    "for row in json[\"dataset_data\"][\"data\"][1:]:\n",
    "    close = row[4]\n",
    "    close_delta_dict[row[0]] = abs(close_prev - close)\n",
    "    close_prev = close\n",
    "\n",
    "close_delta_max_date, close_delta_max = max(close_delta_dict.items(), key=lambda k:k[1])\n",
    "\n",
    "print(\"The largest change between consecutive day closing prices in 2017 was {1}${0:.2f}\" \\\n",
    "      \" per share and occurred on {2}.\".format(round(close_delta_max, 2), u'\\u0394', \\\n",
    "                                               close_delta_max_date))"
   ]
  },
  {
   "cell_type": "code",
   "execution_count": 37,
   "metadata": {},
   "outputs": [
    {
     "name": "stdout",
     "output_type": "stream",
     "text": [
      "The average daily traded volume for 2017 was 0.0 shares\n"
     ]
    }
   ],
   "source": [
    "# List comprehension solution\n",
    "volume = [row[6] for row in json[\"dataset_data\"][\"data\"]]\n",
    "vol_avg = sum(volume) / len(volume)\n",
    "\n",
    "print(\"The average daily traded volume for 2017 was {0:,} shares\".format(round(vol_avg, 1)))"
   ]
  }
 ],
 "metadata": {
  "kernelspec": {
   "display_name": "Python 3",
   "language": "python",
   "name": "python3"
  },
  "language_info": {
   "codemirror_mode": {
    "name": "ipython",
    "version": 3
   },
   "file_extension": ".py",
   "mimetype": "text/x-python",
   "name": "python",
   "nbconvert_exporter": "python",
   "pygments_lexer": "ipython3",
   "version": "3.7.4"
  }
 },
 "nbformat": 4,
 "nbformat_minor": 2
}
